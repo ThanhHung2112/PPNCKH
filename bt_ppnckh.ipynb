{
 "cells": [
  {
   "cell_type": "markdown",
   "id": "74eae8bc",
   "metadata": {},
   "source": [
    "# Tổng hợp và phân tích kết quả nghiên cứu sau đây:\n",
    "\n",
    " Nghiên cứu về tình hình học tập của sinh viên trong 3 năm, ta thu được kết quả sau: năm 2016-2017 số sinh viên đạt khá giỏi là 45%, số sinh viên học lại 15%, số sinh viên có học bổng là 18%, năm 2017-2018 số sinh viên khá giỏi giảm 13 %, số sinh viên học lại là 18%, sinh viên có học bổng 21%. Năm 2018-2019 các chỉ tiêu trên là, 40%, 12%, 11%."
   ]
  },
  {
   "cell_type": "code",
   "execution_count": 154,
   "id": "6f477703",
   "metadata": {},
   "outputs": [],
   "source": [
    "import numpy as np\n",
    "import pandas as pd\n",
    "\n",
    "\n",
    "import matplotlib\n",
    "import matplotlib.pyplot as plt \n",
    "import seaborn as sns\n",
    "\n",
    "# figuer \n",
    "%matplotlib inline\n",
    "sns.set(rc={'figure.figsize':(10, 7.5)})"
   ]
  },
  {
   "cell_type": "code",
   "execution_count": 114,
   "id": "566e31b9",
   "metadata": {},
   "outputs": [],
   "source": [
    "d_dt = {\"Năm\":(\"2016 - 2017\",\"2017 - 2018\",\"2018 - 2019\"),\n",
    "    \"Khá - Giỏi\": (45,15,18),\n",
    "       \"Học lại\": (45 - 13,18,21),\n",
    "       \"Học Bổng\": (40,12,11)}"
   ]
  },
  {
   "cell_type": "code",
   "execution_count": 115,
   "id": "158cb870",
   "metadata": {},
   "outputs": [
    {
     "data": {
      "text/html": [
       "<div>\n",
       "<style scoped>\n",
       "    .dataframe tbody tr th:only-of-type {\n",
       "        vertical-align: middle;\n",
       "    }\n",
       "\n",
       "    .dataframe tbody tr th {\n",
       "        vertical-align: top;\n",
       "    }\n",
       "\n",
       "    .dataframe thead th {\n",
       "        text-align: right;\n",
       "    }\n",
       "</style>\n",
       "<table border=\"1\" class=\"dataframe\">\n",
       "  <thead>\n",
       "    <tr style=\"text-align: right;\">\n",
       "      <th></th>\n",
       "      <th>Năm</th>\n",
       "      <th>Khá - Giỏi</th>\n",
       "      <th>Học lại</th>\n",
       "      <th>Học Bổng</th>\n",
       "    </tr>\n",
       "  </thead>\n",
       "  <tbody>\n",
       "    <tr>\n",
       "      <th>0</th>\n",
       "      <td>2016 - 2017</td>\n",
       "      <td>45</td>\n",
       "      <td>32</td>\n",
       "      <td>40</td>\n",
       "    </tr>\n",
       "    <tr>\n",
       "      <th>1</th>\n",
       "      <td>2017 - 2018</td>\n",
       "      <td>15</td>\n",
       "      <td>18</td>\n",
       "      <td>12</td>\n",
       "    </tr>\n",
       "    <tr>\n",
       "      <th>2</th>\n",
       "      <td>2018 - 2019</td>\n",
       "      <td>18</td>\n",
       "      <td>21</td>\n",
       "      <td>11</td>\n",
       "    </tr>\n",
       "  </tbody>\n",
       "</table>\n",
       "</div>"
      ],
      "text/plain": [
       "           Năm  Khá - Giỏi  Học lại  Học Bổng\n",
       "0  2016 - 2017          45       32        40\n",
       "1  2017 - 2018          15       18        12\n",
       "2  2018 - 2019          18       21        11"
      ]
     },
     "execution_count": 115,
     "metadata": {},
     "output_type": "execute_result"
    }
   ],
   "source": [
    "df = pd.DataFrame(d_dt)\n",
    "df"
   ]
  },
  {
   "cell_type": "code",
   "execution_count": 116,
   "id": "c727171c",
   "metadata": {},
   "outputs": [
    {
     "data": {
      "text/html": [
       "<div>\n",
       "<style scoped>\n",
       "    .dataframe tbody tr th:only-of-type {\n",
       "        vertical-align: middle;\n",
       "    }\n",
       "\n",
       "    .dataframe tbody tr th {\n",
       "        vertical-align: top;\n",
       "    }\n",
       "\n",
       "    .dataframe thead th {\n",
       "        text-align: right;\n",
       "    }\n",
       "</style>\n",
       "<table border=\"1\" class=\"dataframe\">\n",
       "  <thead>\n",
       "    <tr style=\"text-align: right;\">\n",
       "      <th></th>\n",
       "      <th>count</th>\n",
       "      <th>mean</th>\n",
       "      <th>std</th>\n",
       "      <th>min</th>\n",
       "      <th>25%</th>\n",
       "      <th>50%</th>\n",
       "      <th>75%</th>\n",
       "      <th>max</th>\n",
       "    </tr>\n",
       "  </thead>\n",
       "  <tbody>\n",
       "    <tr>\n",
       "      <th>Khá - Giỏi</th>\n",
       "      <td>3.0</td>\n",
       "      <td>26.000000</td>\n",
       "      <td>16.522712</td>\n",
       "      <td>15.0</td>\n",
       "      <td>16.5</td>\n",
       "      <td>18.0</td>\n",
       "      <td>31.5</td>\n",
       "      <td>45.0</td>\n",
       "    </tr>\n",
       "    <tr>\n",
       "      <th>Học lại</th>\n",
       "      <td>3.0</td>\n",
       "      <td>23.666667</td>\n",
       "      <td>7.371115</td>\n",
       "      <td>18.0</td>\n",
       "      <td>19.5</td>\n",
       "      <td>21.0</td>\n",
       "      <td>26.5</td>\n",
       "      <td>32.0</td>\n",
       "    </tr>\n",
       "    <tr>\n",
       "      <th>Học Bổng</th>\n",
       "      <td>3.0</td>\n",
       "      <td>21.000000</td>\n",
       "      <td>16.462078</td>\n",
       "      <td>11.0</td>\n",
       "      <td>11.5</td>\n",
       "      <td>12.0</td>\n",
       "      <td>26.0</td>\n",
       "      <td>40.0</td>\n",
       "    </tr>\n",
       "  </tbody>\n",
       "</table>\n",
       "</div>"
      ],
      "text/plain": [
       "            count       mean        std   min   25%   50%   75%   max\n",
       "Khá - Giỏi    3.0  26.000000  16.522712  15.0  16.5  18.0  31.5  45.0\n",
       "Học lại       3.0  23.666667   7.371115  18.0  19.5  21.0  26.5  32.0\n",
       "Học Bổng      3.0  21.000000  16.462078  11.0  11.5  12.0  26.0  40.0"
      ]
     },
     "execution_count": 116,
     "metadata": {},
     "output_type": "execute_result"
    }
   ],
   "source": [
    "df.describe().T\n"
   ]
  },
  {
   "cell_type": "code",
   "execution_count": 136,
   "id": "6a6eb5ce",
   "metadata": {},
   "outputs": [],
   "source": [
    "# Create table with colnames to count value of col\n",
    "def create_table(colname):\n",
    "    x = pd.DataFrame(df[[\"Năm\",colname]])\n",
    "    return x"
   ]
  },
  {
   "cell_type": "code",
   "execution_count": 164,
   "id": "57c30d31",
   "metadata": {},
   "outputs": [
    {
     "name": "stdout",
     "output_type": "stream",
     "text": [
      "Bảng học sinh khá giỏi trong các năm:\n"
     ]
    },
    {
     "data": {
      "text/html": [
       "<div>\n",
       "<style scoped>\n",
       "    .dataframe tbody tr th:only-of-type {\n",
       "        vertical-align: middle;\n",
       "    }\n",
       "\n",
       "    .dataframe tbody tr th {\n",
       "        vertical-align: top;\n",
       "    }\n",
       "\n",
       "    .dataframe thead th {\n",
       "        text-align: right;\n",
       "    }\n",
       "</style>\n",
       "<table border=\"1\" class=\"dataframe\">\n",
       "  <thead>\n",
       "    <tr style=\"text-align: right;\">\n",
       "      <th></th>\n",
       "      <th>Năm</th>\n",
       "      <th>Khá - Giỏi</th>\n",
       "    </tr>\n",
       "  </thead>\n",
       "  <tbody>\n",
       "    <tr>\n",
       "      <th>0</th>\n",
       "      <td>2016 - 2017</td>\n",
       "      <td>45</td>\n",
       "    </tr>\n",
       "    <tr>\n",
       "      <th>1</th>\n",
       "      <td>2017 - 2018</td>\n",
       "      <td>15</td>\n",
       "    </tr>\n",
       "    <tr>\n",
       "      <th>2</th>\n",
       "      <td>2018 - 2019</td>\n",
       "      <td>18</td>\n",
       "    </tr>\n",
       "  </tbody>\n",
       "</table>\n",
       "</div>"
      ],
      "text/plain": [
       "           Năm  Khá - Giỏi\n",
       "0  2016 - 2017          45\n",
       "1  2017 - 2018          15\n",
       "2  2018 - 2019          18"
      ]
     },
     "execution_count": 164,
     "metadata": {},
     "output_type": "execute_result"
    }
   ],
   "source": [
    "kg = create_table(\"Khá - Giỏi\")\n",
    "print(\"Bảng học sinh khá giỏi trong các năm:\")\n",
    "kg"
   ]
  },
  {
   "cell_type": "code",
   "execution_count": 157,
   "id": "2b376079",
   "metadata": {},
   "outputs": [
    {
     "data": {
      "image/png": "[encoded data removed]",
      "text/plain": [
       "<Figure size 720x540 with 1 Axes>"
      ]
     },
     "metadata": {},
     "output_type": "display_data"
    }
   ],
   "source": [
    "# Barplot sex\n",
    "kg.reset_index(inplace= True)\n",
    "sns.barplot(x='Khá - Giỏi',y= \"Năm\",data = kg)\n",
    "plt.title('Biểu đồ thể hiện phần trăm học sinh đạt khá giỏi trong các năm', fontsize = 20)\n",
    "plt.tight_layout()"
   ]
  },
  {
   "cell_type": "code",
   "execution_count": 165,
   "id": "71b69ea8",
   "metadata": {},
   "outputs": [
    {
     "name": "stdout",
     "output_type": "stream",
     "text": [
      "Bảng học sinh bị học lại trong các năm:\n"
     ]
    },
    {
     "data": {
      "text/html": [
       "<div>\n",
       "<style scoped>\n",
       "    .dataframe tbody tr th:only-of-type {\n",
       "        vertical-align: middle;\n",
       "    }\n",
       "\n",
       "    .dataframe tbody tr th {\n",
       "        vertical-align: top;\n",
       "    }\n",
       "\n",
       "    .dataframe thead th {\n",
       "        text-align: right;\n",
       "    }\n",
       "</style>\n",
       "<table border=\"1\" class=\"dataframe\">\n",
       "  <thead>\n",
       "    <tr style=\"text-align: right;\">\n",
       "      <th></th>\n",
       "      <th>Năm</th>\n",
       "      <th>Học lại</th>\n",
       "    </tr>\n",
       "  </thead>\n",
       "  <tbody>\n",
       "    <tr>\n",
       "      <th>0</th>\n",
       "      <td>2016 - 2017</td>\n",
       "      <td>32</td>\n",
       "    </tr>\n",
       "    <tr>\n",
       "      <th>1</th>\n",
       "      <td>2017 - 2018</td>\n",
       "      <td>18</td>\n",
       "    </tr>\n",
       "    <tr>\n",
       "      <th>2</th>\n",
       "      <td>2018 - 2019</td>\n",
       "      <td>21</td>\n",
       "    </tr>\n",
       "  </tbody>\n",
       "</table>\n",
       "</div>"
      ],
      "text/plain": [
       "           Năm  Học lại\n",
       "0  2016 - 2017       32\n",
       "1  2017 - 2018       18\n",
       "2  2018 - 2019       21"
      ]
     },
     "execution_count": 165,
     "metadata": {},
     "output_type": "execute_result"
    }
   ],
   "source": [
    "hl = create_table(\"Học lại\")\n",
    "print(\"Bảng học sinh bị học lại trong các năm:\")\n",
    "hl"
   ]
  },
  {
   "cell_type": "code",
   "execution_count": 159,
   "id": "e625d2b6",
   "metadata": {},
   "outputs": [
    {
     "data": {
      "image/png": "[encoded data removed]",
      "text/plain": [
       "<Figure size 720x540 with 1 Axes>"
      ]
     },
     "metadata": {},
     "output_type": "display_data"
    }
   ],
   "source": [
    "# Barplot sex\n",
    "hl.reset_index(inplace= True)\n",
    "sns.barplot(x='Học lại',y= \"Năm\",data = hl)\n",
    "plt.title('Biểu đồ thể hiện phần trăm học sinh học lại trong các năm', fontsize = 20)\n",
    "plt.tight_layout()"
   ]
  },
  {
   "cell_type": "code",
   "execution_count": 166,
   "id": "b80770be",
   "metadata": {},
   "outputs": [
    {
     "name": "stdout",
     "output_type": "stream",
     "text": [
      "Bảng học sinh đạt học bổng trong các năm\n"
     ]
    },
    {
     "data": {
      "text/html": [
       "<div>\n",
       "<style scoped>\n",
       "    .dataframe tbody tr th:only-of-type {\n",
       "        vertical-align: middle;\n",
       "    }\n",
       "\n",
       "    .dataframe tbody tr th {\n",
       "        vertical-align: top;\n",
       "    }\n",
       "\n",
       "    .dataframe thead th {\n",
       "        text-align: right;\n",
       "    }\n",
       "</style>\n",
       "<table border=\"1\" class=\"dataframe\">\n",
       "  <thead>\n",
       "    <tr style=\"text-align: right;\">\n",
       "      <th></th>\n",
       "      <th>Năm</th>\n",
       "      <th>Học Bổng</th>\n",
       "    </tr>\n",
       "  </thead>\n",
       "  <tbody>\n",
       "    <tr>\n",
       "      <th>0</th>\n",
       "      <td>2016 - 2017</td>\n",
       "      <td>40</td>\n",
       "    </tr>\n",
       "    <tr>\n",
       "      <th>1</th>\n",
       "      <td>2017 - 2018</td>\n",
       "      <td>12</td>\n",
       "    </tr>\n",
       "    <tr>\n",
       "      <th>2</th>\n",
       "      <td>2018 - 2019</td>\n",
       "      <td>11</td>\n",
       "    </tr>\n",
       "  </tbody>\n",
       "</table>\n",
       "</div>"
      ],
      "text/plain": [
       "           Năm  Học Bổng\n",
       "0  2016 - 2017        40\n",
       "1  2017 - 2018        12\n",
       "2  2018 - 2019        11"
      ]
     },
     "execution_count": 166,
     "metadata": {},
     "output_type": "execute_result"
    }
   ],
   "source": [
    "hb = create_table(\"Học Bổng\")\n",
    "print(\"Bảng học sinh đạt học bổng trong các năm\")\n",
    "hb"
   ]
  },
  {
   "cell_type": "code",
   "execution_count": 161,
   "id": "6351fbd3",
   "metadata": {},
   "outputs": [
    {
     "data": {
      "image/png": "[encoded data removed]",
      "text/plain": [
       "<Figure size 720x540 with 1 Axes>"
      ]
     },
     "metadata": {},
     "output_type": "display_data"
    }
   ],
   "source": [
    "# Barplot sex\n",
    "hb.reset_index(inplace= True)\n",
    "sns.barplot(x='Học Bổng',y= \"Năm\",data = hb)\n",
    "plt.title('Biểu đồ thể hiện phần trăm học sinh đạt học bổng trong các năm', fontsize = 20)\n",
    "plt.tight_layout()"
   ]
  },
  {
   "cell_type": "markdown",
   "id": "b52c3d36",
   "metadata": {},
   "source": [
    "# Kết luận:\n",
    "## Qua 3 biểu đồ ta thấy:\n",
    "\n",
    " _**Số lượng học sinh bị học lại giảm mạnh( giảm gần 50%)**\n",
    " \n",
    " --> Phương pháp giáo dục có hiệu quả giúp chất lượng học sinh cao hơn\n",
    " \n",
    " _ **Tất cả các chỉ số đều giảm mạnh sau năm 2016 - 2017**\n",
    " \n",
    " --> Số lượng học sinh đến trường sau năm 2016 tăng rất mạnh\n",
    " \n",
    " _ **Lượng học sinh đạt học bổng liên tục giảm, số học sinh đạt khá giỏi cũng ít hơn nhiều.**\n",
    " \n",
    " --> Chính sách giúp học sinh đạt học bổng ngày càng khó khăn hơn hay phương pháp đánh giá học sinh qua các bài kiểm tra đang khó hơn ?.\n",
    " \n",
    " _ **Năm 2018 có lượng học sinh đạt khá giỏi tăng nhưng lượng học sinh đạt học bổng lại giảm**\n",
    " \n",
    " --> Cần xem lại chính sách học bổng giúp nhiều học sinh có khả năng tiếp cận học bổng năng lực hơn chứ không phải chỉ tài trợ học bổng hỗ trợ học sinh khó khăn\n",
    " \n",
    "# Phương hướng:\n",
    "### 1. Tiếp tục quan tâm, hỗ trợ học sinh làm giảm tỉ lệ học lại\n",
    "### 2. Xem xét chính sách học bổng, khích lễ học sinh càng cố gắng hơn trong học tập\n",
    "### 3. Chú ý, quan tâm đến học sinh khá giỏi để giúp học sinh có thể phát triển toàn bộ khả năng"
   ]
  }
 ],
 "metadata": {
  "kernelspec": {
   "display_name": "Python 3",
   "language": "python",
   "name": "python3"
  },
  "language_info": {
   "codemirror_mode": {
    "name": "ipython",
    "version": 3
   },
   "file_extension": ".py",
   "mimetype": "text/x-python",
   "name": "python",
   "nbconvert_exporter": "python",
   "pygments_lexer": "ipython3",
   "version": "3.9.5"
  }
 },
 "nbformat": 4,
 "nbformat_minor": 5
}
